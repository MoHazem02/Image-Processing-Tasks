{
 "cells": [
  {
   "cell_type": "markdown",
   "metadata": {},
   "source": [
    "Drawing Normal Checkerboard"
   ]
  },
  {
   "cell_type": "code",
   "execution_count": null,
   "metadata": {},
   "outputs": [],
   "source": [
    "import matplotlib.pyplot as plt\n",
    "import numpy as np\n",
    "\n",
    "n = 16\n",
    "IMAGE_SIZE = 1024\n",
    "UNIT_SIZE = int(IMAGE_SIZE / n)\n",
    "\n",
    "checkerboard = np.ones((IMAGE_SIZE, IMAGE_SIZE, 3))\n",
    "\n",
    "for i in range(0, IMAGE_SIZE, UNIT_SIZE):\n",
    "    for j in range(0, IMAGE_SIZE, UNIT_SIZE):\n",
    "\n",
    "        if (i + j) % (UNIT_SIZE*2) == 0:\n",
    "            checkerboard[i: i+UNIT_SIZE, j: j+UNIT_SIZE] = [1/IMAGE_SIZE * i, 0, 1/IMAGE_SIZE * j] \n",
    "\n",
    "plt.imshow(checkerboard)\n",
    "plt.axis('off')\n",
    "plt.show()"
   ]
  },
  {
   "cell_type": "markdown",
   "metadata": {},
   "source": [
    "Mean, Std and Histogram"
   ]
  },
  {
   "cell_type": "code",
   "execution_count": null,
   "metadata": {},
   "outputs": [],
   "source": [
    "mean = np.mean(checkerboard)\n",
    "std_dev = np.std(checkerboard)\n",
    "\n",
    "print(f\"Mean: {mean}\")\n",
    "print(f\"Standard Deviation: {std_dev}\")\n",
    "\n",
    "plt.figure()\n",
    "plt.hist(checkerboard.ravel(), bins=256, color='gray', alpha=1)\n",
    "plt.title('Histogram of Checkerboard Image')\n",
    "plt.xlabel('Pixel Intensity')\n",
    "plt.ylabel('Frequency')\n",
    "plt.show()"
   ]
  },
  {
   "cell_type": "markdown",
   "metadata": {},
   "source": [
    "Drawing Wrapped Checkerboard"
   ]
  },
  {
   "cell_type": "code",
   "execution_count": null,
   "metadata": {},
   "outputs": [],
   "source": [
    "x = np.linspace(0, 2 * np.pi, IMAGE_SIZE)\n",
    "y = np.linspace(0, 2 * np.pi, IMAGE_SIZE)\n",
    "xx, yy = np.meshgrid(x, y)\n",
    "\n",
    "warp_x = (xx + 0.5 * np.sin(yy)) * (IMAGE_SIZE/(2*np.pi))\n",
    "warp_y = (yy + 0.5 * np.sin(xx)) * (IMAGE_SIZE/(2*np.pi))\n",
    "\n",
    "warp_x = np.clip(warp_x, 0, IMAGE_SIZE-1).astype(int)\n",
    "warp_y = np.clip(warp_y, 0, IMAGE_SIZE-1).astype(int)\n",
    "\n",
    "warped_checkerboard = checkerboard[warp_x, warp_y]\n",
    "\n",
    "plt.imshow(warped_checkerboard)\n",
    "plt.title(\"Warped Checkerboard\")\n",
    "plt.axis('off')\n",
    "plt.show()"
   ]
  },
  {
   "cell_type": "markdown",
   "metadata": {},
   "source": [
    "Mean, Std and Histogram"
   ]
  },
  {
   "cell_type": "code",
   "execution_count": null,
   "metadata": {},
   "outputs": [],
   "source": [
    "w_mean = np.mean(warped_checkerboard)\n",
    "w_std_dev = np.std(warped_checkerboard)\n",
    "\n",
    "print(f\"Mean: {w_mean}\")\n",
    "print(f\"Standard Deviation: {w_std_dev}\")\n",
    "\n",
    "plt.figure()\n",
    "plt.hist(checkerboard.ravel(), bins=256, color='gray', alpha=1)\n",
    "plt.title('Histogram of Warped Checkerboard Image')\n",
    "plt.xlabel('Pixel Intensity')\n",
    "plt.ylabel('Frequency')\n",
    "plt.show()"
   ]
  }
 ],
 "metadata": {
  "kernelspec": {
   "display_name": "Python 3",
   "language": "python",
   "name": "python3"
  },
  "language_info": {
   "codemirror_mode": {
    "name": "ipython",
    "version": 3
   },
   "file_extension": ".py",
   "mimetype": "text/x-python",
   "name": "python",
   "nbconvert_exporter": "python",
   "pygments_lexer": "ipython3",
   "version": "3.10.10"
  }
 },
 "nbformat": 4,
 "nbformat_minor": 2
}
