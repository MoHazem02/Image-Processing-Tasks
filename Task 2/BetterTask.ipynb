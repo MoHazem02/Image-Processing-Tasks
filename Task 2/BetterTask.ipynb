{
 "cells": [
  {
   "cell_type": "code",
   "execution_count": null,
   "metadata": {},
   "outputs": [
    {
     "ename": "error",
     "evalue": "OpenCV(4.10.0) D:\\a\\opencv-python\\opencv-python\\opencv\\modules\\imgproc\\src\\color.cpp:196: error: (-215:Assertion failed) !_src.empty() in function 'cv::cvtColor'\n",
     "output_type": "error",
     "traceback": [
      "\u001b[1;31m---------------------------------------------------------------------------\u001b[0m",
      "\u001b[1;31merror\u001b[0m                                     Traceback (most recent call last)",
      "Cell \u001b[1;32mIn[4], line 8\u001b[0m\n\u001b[0;32m      6\u001b[0m image_path \u001b[38;5;241m=\u001b[39m \u001b[38;5;124m'\u001b[39m\u001b[38;5;124mTask 2\u001b[39m\u001b[38;5;124m\\\u001b[39m\u001b[38;5;124mmonkey.jpg\u001b[39m\u001b[38;5;124m'\u001b[39m\n\u001b[0;32m      7\u001b[0m image \u001b[38;5;241m=\u001b[39m cv2\u001b[38;5;241m.\u001b[39mimread(image_path)\n\u001b[1;32m----> 8\u001b[0m image \u001b[38;5;241m=\u001b[39m \u001b[43mcv2\u001b[49m\u001b[38;5;241;43m.\u001b[39;49m\u001b[43mcvtColor\u001b[49m\u001b[43m(\u001b[49m\u001b[43mimage\u001b[49m\u001b[43m,\u001b[49m\u001b[43m \u001b[49m\u001b[43mcv2\u001b[49m\u001b[38;5;241;43m.\u001b[39;49m\u001b[43mCOLOR_BGR2RGB\u001b[49m\u001b[43m)\u001b[49m\n\u001b[0;32m     10\u001b[0m \u001b[38;5;66;03m# Get the dimensions of the image\u001b[39;00m\n\u001b[0;32m     11\u001b[0m M, N, _ \u001b[38;5;241m=\u001b[39m image\u001b[38;5;241m.\u001b[39mshape\n",
      "\u001b[1;31merror\u001b[0m: OpenCV(4.10.0) D:\\a\\opencv-python\\opencv-python\\opencv\\modules\\imgproc\\src\\color.cpp:196: error: (-215:Assertion failed) !_src.empty() in function 'cv::cvtColor'\n"
     ]
    }
   ],
   "source": [
    "import numpy as np\n",
    "import matplotlib.pyplot as plt\n",
    "import cv2\n",
    "\n",
    "# Load the image\n",
    "image_path = 'monkey.jpg'\n",
    "image = cv2.imread(image_path)\n",
    "image = cv2.cvtColor(image, cv2.COLOR_BGR2RGB)\n",
    "\n",
    "# Get the dimensions of the image\n",
    "M, N, _ = image.shape\n",
    "\n",
    "# Display the original image\n",
    "plt.imshow(image)\n",
    "plt.title('Original Image')\n",
    "plt.axis('off')\n",
    "plt.show()"
   ]
  },
  {
   "cell_type": "code",
   "execution_count": null,
   "metadata": {},
   "outputs": [],
   "source": [
    "# Req 2: Generate Bayer Filter ✅\n",
    "BAYER_FILTER = np.zeros((M, N, 3), dtype=np.uint8)\n",
    "\n",
    "# Red channel\n",
    "BAYER_FILTER[0::2, 0::2, 0] = 255\n",
    "# Green channel\n",
    "BAYER_FILTER[0::2, 1::2, 1] = 255\n",
    "BAYER_FILTER[1::2, 0::2, 1] = 255\n",
    "# Blue channel\n",
    "BAYER_FILTER[1::2, 1::2, 2] = 255\n",
    "\n",
    "# Display Bayer Filter\n",
    "plt.imshow(BAYER_FILTER)\n",
    "plt.title('Bayer Filter')\n",
    "plt.axis('off')\n",
    "plt.show()"
   ]
  },
  {
   "cell_type": "code",
   "execution_count": null,
   "metadata": {},
   "outputs": [],
   "source": [
    "# Req 3: Apply Bayer Filter to the image ✅\n",
    "FILTERED_MATRIX = BAYER_FILTER * image\n",
    "\n",
    "# Display Filtered Matrix\n",
    "plt.imshow(FILTERED_MATRIX)\n",
    "plt.title('Filtered Matrix')\n",
    "plt.axis('off')\n",
    "plt.show()\n"
   ]
  },
  {
   "cell_type": "code",
   "execution_count": null,
   "metadata": {},
   "outputs": [],
   "source": [
    "# Convert to single channel Bayer pattern\n",
    "BAYER_PATTERN = np.zeros((M, N), dtype=np.uint8)\n",
    "BAYER_PATTERN[0::2, 0::2] = image[0::2, 0::2, 0]  # Red\n",
    "BAYER_PATTERN[0::2, 1::2] = image[0::2, 1::2, 1]  # Green\n",
    "BAYER_PATTERN[1::2, 0::2] = image[1::2, 0::2, 1]  # Green\n",
    "BAYER_PATTERN[1::2, 1::2] = image[1::2, 1::2, 2]  # Blue\n",
    "\n",
    "# Req 3.2: Perform Demosaicing using OpenCV ✅\n",
    "INTERPOLATED_IMAGE = cv2.cvtColor(BAYER_PATTERN, cv2.COLOR_BAYER_RG2RGB)\n",
    "\n",
    "# Display Interpolated Image\n",
    "plt.imshow(INTERPOLATED_IMAGE)\n",
    "plt.title('Interpolated Image')\n",
    "plt.axis('off')\n",
    "plt.show()"
   ]
  },
  {
   "cell_type": "code",
   "execution_count": null,
   "metadata": {},
   "outputs": [],
   "source": [
    "# Req 4: Transform to HSV color space ✅\n",
    "HSV_IMAGE = cv2.cvtColor(INTERPOLATED_IMAGE, cv2.COLOR_RGB2HSV)\n",
    "\n",
    "# Display HSV Image\n",
    "plt.imshow(HSV_IMAGE)\n",
    "plt.title('HSV Image')\n",
    "plt.axis('off')\n",
    "plt.show()"
   ]
  }
 ],
 "metadata": {
  "kernelspec": {
   "display_name": "Python 3",
   "language": "python",
   "name": "python3"
  },
  "language_info": {
   "codemirror_mode": {
    "name": "ipython",
    "version": 3
   },
   "file_extension": ".py",
   "mimetype": "text/x-python",
   "name": "python",
   "nbconvert_exporter": "python",
   "pygments_lexer": "ipython3",
   "version": "3.10.10"
  }
 },
 "nbformat": 4,
 "nbformat_minor": 2
}
